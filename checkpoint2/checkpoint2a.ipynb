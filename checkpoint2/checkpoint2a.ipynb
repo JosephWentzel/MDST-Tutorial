{
 "cells": [
  {
   "cell_type": "markdown",
   "metadata": {
    "colab_type": "text",
    "id": "0a8IYAJUshu1"
   },
   "source": [
    "# Exercises"
   ]
  },
  {
   "cell_type": "markdown",
   "metadata": {},
   "source": [
    "These exercises are a mix of Python and pandas/EDA practice. Most should be no more than a few lines of code! "
   ]
  },
  {
   "cell_type": "code",
   "execution_count": 3,
   "metadata": {
    "colab": {},
    "colab_type": "code",
    "id": "Jo6wuTgkshu1"
   },
   "outputs": [
    {
     "name": "stdout",
     "output_type": "stream",
     "text": [
      "[6, 5, 4]\n",
      "[4, 5, 6]\n",
      "[1, 4, 9, 16, 25, 36]\n"
     ]
    }
   ],
   "source": [
    "# here is a Python list:\n",
    "\n",
    "a = [1, 2, 3, 4, 5, 6]\n",
    "\n",
    "# get a list containing the last 3 elements of a\n",
    "tempList = []\n",
    "tempList.append(a[-1])\n",
    "tempList.append(a[-2])\n",
    "tempList.append(a[-3])\n",
    "print(tempList)\n",
    "\n",
    "# reverse the list\n",
    "tempList.reverse()\n",
    "print(tempList)\n",
    "# get a list where each entry in a is squared (so the new list is [1, 4, 9, 16, 25, 36])\n",
    "tempList2 = []\n",
    "for i in a:\n",
    "    tempList2.append(i**2)\n",
    "print(tempList2)\n"
   ]
  },
  {
   "cell_type": "code",
   "execution_count": 11,
   "metadata": {
    "colab": {},
    "colab_type": "code",
    "id": "qANtg5kQshu2"
   },
   "outputs": [],
   "source": [
    "import numpy as np\n",
    "# create a numpy array from this list\n",
    "b = [1, 2, 3, 4, 5, 6] # change this\n",
    "b = np.array(b)"
   ]
  },
  {
   "cell_type": "code",
   "execution_count": 12,
   "metadata": {
    "colab": {},
    "colab_type": "code",
    "id": "91CXRflLshu4"
   },
   "outputs": [
    {
     "name": "stdout",
     "output_type": "stream",
     "text": [
      "3.5\n"
     ]
    }
   ],
   "source": [
    "# find the mean of b\n",
    "print(np.mean(b))"
   ]
  },
  {
   "cell_type": "code",
   "execution_count": 13,
   "metadata": {
    "colab": {},
    "colab_type": "code",
    "id": "ZJZFwzQfshu9"
   },
   "outputs": [
    {
     "name": "stdout",
     "output_type": "stream",
     "text": [
      "[ 1  4  9 16 25 36]\n"
     ]
    }
   ],
   "source": [
    "# get a list where each entry in b is squared (so the new numpy array is [1, 4, 9, 16, 25, 36])\n",
    "# use a different (numpy-specific) approach\n",
    "tempList3 = []\n",
    "for i in b:\n",
    "    tempList3.append(i**2)\n",
    "tempList3 = np.array(tempList3)\n",
    "print(tempList3)"
   ]
  },
  {
   "cell_type": "code",
   "execution_count": 15,
   "metadata": {
    "colab": {},
    "colab_type": "code",
    "id": "ajbA5rCCshu5"
   },
   "outputs": [],
   "source": [
    "# change b from a length-6 list to a 2x3 matrix\n",
    "tempList4 = np.asmatrix([[1, 4, 9], [16, 25, 36]])"
   ]
  },
  {
   "cell_type": "code",
   "execution_count": 16,
   "metadata": {
    "colab": {},
    "colab_type": "code",
    "id": "wancU_PWshu6"
   },
   "outputs": [
    {
     "name": "stdout",
     "output_type": "stream",
     "text": [
      "[[ 4.66666667]\n",
      " [25.66666667]]\n"
     ]
    }
   ],
   "source": [
    "# find the mean value of each row\n",
    "rowMean = tempList4.mean(axis=1)\n",
    "print(rowMean)"
   ]
  },
  {
   "cell_type": "code",
   "execution_count": 18,
   "metadata": {
    "colab": {},
    "colab_type": "code",
    "id": "N3hXBrBtshu7"
   },
   "outputs": [
    {
     "name": "stdout",
     "output_type": "stream",
     "text": [
      "[[ 8.5 14.5 22.5]]\n"
     ]
    }
   ],
   "source": [
    "# find the mean value of each column\n",
    "columnMean = tempList4.mean(axis=0)\n",
    "print(columnMean)"
   ]
  },
  {
   "cell_type": "code",
   "execution_count": 19,
   "metadata": {
    "colab": {},
    "colab_type": "code",
    "id": "GvbO8gBXshu8"
   },
   "outputs": [
    {
     "name": "stdout",
     "output_type": "stream",
     "text": [
      "[[ 9]\n",
      " [36]]\n"
     ]
    }
   ],
   "source": [
    "# find the third column of b\n",
    "print(tempList4[:,2])"
   ]
  },
  {
   "cell_type": "code",
   "execution_count": 1,
   "metadata": {
    "colab": {},
    "colab_type": "code",
    "id": "WzCQ5HOJshvA"
   },
   "outputs": [],
   "source": [
    "# load in the \"starbucks_clean.csv\" dataset\n",
    "import pandas as pd\n",
    "df = pd.read_csv('../data/starbucks_clean.csv')"
   ]
  },
  {
   "cell_type": "code",
   "execution_count": 3,
   "metadata": {
    "colab": {},
    "colab_type": "code",
    "id": "rIoxaSxHshvB"
   },
   "outputs": [
    {
     "name": "stdout",
     "output_type": "stream",
     "text": [
      "193.87190082644628\n"
     ]
    }
   ],
   "source": [
    "# this is nutritional info for starbucks items\n",
    "# let's see if we can answer some questions\n",
    "\n",
    "# what is the average # calories across all items?\n",
    "print(df[\"calories\"].mean())"
   ]
  },
  {
   "cell_type": "code",
   "execution_count": 5,
   "metadata": {
    "colab": {},
    "colab_type": "code",
    "id": "ABX7i49FshvD"
   },
   "outputs": [
    {
     "name": "stdout",
     "output_type": "stream",
     "text": [
      "classic espresso drinks              58\n",
      "tazo® tea drinks                     52\n",
      "signature espresso drinks            40\n",
      "frappuccino® blended coffee          36\n",
      "shaken iced beverages                18\n",
      "frappuccino® blended crème           13\n",
      "frappuccino® light blended coffee    12\n",
      "smoothies                             9\n",
      "coffee                                4\n",
      "Name: beverage_category, dtype: int64\n"
     ]
    }
   ],
   "source": [
    "# how many different categories of beverages are there?\n",
    "categories = df[\"beverage_category\"].value_counts()\n",
    "print(categories)"
   ]
  },
  {
   "cell_type": "code",
   "execution_count": 7,
   "metadata": {
    "colab": {},
    "colab_type": "code",
    "id": "P9QatZAzshvE"
   },
   "outputs": [
    {
     "data": {
      "text/plain": [
       "beverage_category\n",
       "classic espresso drinks              140.172414\n",
       "coffee                                 4.250000\n",
       "frappuccino® blended coffee          276.944444\n",
       "frappuccino® blended crème           233.076923\n",
       "frappuccino® light blended coffee    162.500000\n",
       "shaken iced beverages                114.444444\n",
       "signature espresso drinks            250.000000\n",
       "smoothies                            282.222222\n",
       "tazo® tea drinks                     177.307692\n",
       "Name: calories, dtype: float64"
      ]
     },
     "execution_count": 7,
     "metadata": {},
     "output_type": "execute_result"
    }
   ],
   "source": [
    "# what is the average # calories for each beverage category?\n",
    "df.groupby([\"beverage_category\"])[\"calories\"].mean()"
   ]
  },
  {
   "cell_type": "code",
   "execution_count": 13,
   "metadata": {
    "colab": {},
    "colab_type": "code",
    "id": "y8KEpYNkshvG"
   },
   "outputs": [
    {
     "data": {
      "text/plain": [
       "beverage_category\n",
       "classic espresso drinks              16.965517\n",
       "coffee                                0.000000\n",
       "frappuccino® blended coffee          57.083333\n",
       "frappuccino® blended crème           48.461538\n",
       "frappuccino® light blended coffee    32.416667\n",
       "shaken iced beverages                26.000000\n",
       "signature espresso drinks            38.600000\n",
       "smoothies                            36.777778\n",
       "tazo® tea drinks                     30.307692\n",
       "Name: sugars, dtype: float64"
      ]
     },
     "execution_count": 13,
     "metadata": {},
     "output_type": "execute_result"
    }
   ],
   "source": [
    "# what beverage preparation includes the most sugar on average?\n",
    "df.groupby([\"beverage_category\"])[\"sugars\"].mean()"
   ]
  },
  {
   "cell_type": "code",
   "execution_count": 11,
   "metadata": {
    "colab": {},
    "colab_type": "code",
    "id": "MnbCEJw8shvH"
   },
   "outputs": [
    {
     "data": {
      "text/plain": [
       "beverage_category\n",
       "classic espresso drinks              27.344828\n",
       "coffee                                0.500000\n",
       "frappuccino® blended coffee          12.277778\n",
       "frappuccino® blended crème           13.846154\n",
       "frappuccino® light blended coffee    11.333333\n",
       "shaken iced beverages                 4.000000\n",
       "signature espresso drinks            31.375000\n",
       "smoothies                            13.333333\n",
       "tazo® tea drinks                     23.653846\n",
       "Name: calcium, dtype: float64"
      ]
     },
     "execution_count": 11,
     "metadata": {},
     "output_type": "execute_result"
    }
   ],
   "source": [
    "# what is the average % daily value calcium content for each beverage?\n",
    "df.groupby([\"beverage_category\"])[\"calcium\"].mean()"
   ]
  },
  {
   "cell_type": "code",
   "execution_count": 14,
   "metadata": {
    "colab": {},
    "colab_type": "code",
    "id": "Nv5dksj_shvJ"
   },
   "outputs": [
    {
     "data": {
      "text/plain": [
       "calories     0.0\n",
       "protein     20.0\n",
       "dtype: float64"
      ]
     },
     "execution_count": 14,
     "metadata": {},
     "output_type": "execute_result"
    }
   ],
   "source": [
    "# It's bulking season. What drink should Naitian get so that he maximizes protein but minimizes calories?\n",
    "# (you can use more than one line for this one)\n",
    "# there are multiple valid approaches you can take for this (with different answers)\n",
    "# I know that you want more calories for bulking season but whatever this is MDST, not Michigan Muscle Club okay\n",
    "df[[\"calories\", \"protein\"]].agg({\"calories\": \"min\", \"protein\": \"max\"})"
   ]
  },
  {
   "cell_type": "code",
   "execution_count": 17,
   "metadata": {},
   "outputs": [
    {
     "data": {
      "text/plain": [
       "<matplotlib.axes._subplots.AxesSubplot at 0x7fe8087c1090>"
      ]
     },
     "execution_count": 17,
     "metadata": {},
     "output_type": "execute_result"
    },
    {
     "data": {
      "image/png": "[encoded data removed]",
      "text/plain": [
       "<Figure size 432x288 with 1 Axes>"
      ]
     },
     "metadata": {
      "needs_background": "light"
     },
     "output_type": "display_data"
    }
   ],
   "source": [
    "# plot the distribution of the number of calories in drinks using matplotlib\n",
    "import matplotlib as plt\n",
    "df.plot.scatter( x='beverage', y='calories')"
   ]
  },
  {
   "cell_type": "code",
   "execution_count": 20,
   "metadata": {},
   "outputs": [
    {
     "data": {
      "text/plain": [
       "<matplotlib.axes._subplots.AxesSubplot at 0x7fe818dc8fd0>"
      ]
     },
     "execution_count": 20,
     "metadata": {},
     "output_type": "execute_result"
    },
    {
     "data": {
      "image/png": "[encoded data removed]",
      "text/plain": [
       "<Figure size 432x288 with 1 Axes>"
      ]
     },
     "metadata": {
      "needs_background": "light"
     },
     "output_type": "display_data"
    }
   ],
   "source": [
    "# plot the same distribution using seaborn. what about a density plot instead?\n",
    "import seaborn\n",
    "seaborn.scatterplot(data=df, x='beverage', y='calories')\n",
    "seaborn.distplot(df[\"calories\"], hist=True, kde=True)"
   ]
  },
  {
   "cell_type": "code",
   "execution_count": 22,
   "metadata": {},
   "outputs": [
    {
     "data": {
      "text/plain": [
       "<matplotlib.axes._subplots.AxesSubplot at 0x7fe7f14ff750>"
      ]
     },
     "execution_count": 22,
     "metadata": {},
     "output_type": "execute_result"
    },
    {
     "data": {
      "image/png": "[encoded data removed]",
      "text/plain": [
       "<Figure size 432x288 with 1 Axes>"
      ]
     },
     "metadata": {
      "needs_background": "light"
     },
     "output_type": "display_data"
    }
   ],
   "source": [
    "# plot calories against total fat using seaborn\n",
    "seaborn.scatterplot(data=df, x='total fat', y='calories')"
   ]
  },
  {
   "cell_type": "code",
   "execution_count": null,
   "metadata": {},
   "outputs": [],
   "source": [
    "# plot the distribution of calories in Short, Tall, Grande, and Venti drinks\n",
    "# (you can use multiple lines for this)\n",
    "# twist: you should also include the Nonfat Milk drinks that also have an associated size.\n",
    "\n",
    "# you can decide how you want to visualize this. Colors? Small multiples? Density vs histogram?\n",
    "# the starbucks is your oyster."
   ]
  }
 ],
 "metadata": {
  "kernelspec": {
   "display_name": "Python 3",
   "language": "python",
   "name": "python3"
  },
  "language_info": {
   "codemirror_mode": {
    "name": "ipython",
    "version": 3
   },
   "file_extension": ".py",
   "mimetype": "text/x-python",
   "name": "python",
   "nbconvert_exporter": "python",
   "pygments_lexer": "ipython3",
   "version": "3.7.6"
  }
 },
 "nbformat": 4,
 "nbformat_minor": 5
}
